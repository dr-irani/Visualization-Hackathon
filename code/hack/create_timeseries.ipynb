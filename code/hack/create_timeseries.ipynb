{
 "cells": [
  {
   "cell_type": "code",
   "execution_count": 1,
   "metadata": {},
   "outputs": [],
   "source": [
    "import pandas as pd\n",
    "import numpy as np\n",
    "import os\n",
    "import csv\n",
    "import matplotlib.pyplot as plt\n",
    "\n",
    "%matplotlib inline"
   ]
  },
  {
   "cell_type": "code",
   "execution_count": 2,
   "metadata": {},
   "outputs": [],
   "source": [
    "from datetime import datetime\n",
    "from collections import Counter\n",
    "import pickle"
   ]
  },
  {
   "cell_type": "code",
   "execution_count": 12,
   "metadata": {},
   "outputs": [],
   "source": [
    "DATA_CSV = '../../data/sociology/911_calls_for_service.csv'#'../../data/sociology/location_geocoded.csv'"
   ]
  },
  {
   "cell_type": "code",
   "execution_count": 13,
   "metadata": {},
   "outputs": [],
   "source": [
    "dframe = pd.read_csv(DATA_CSV)"
   ]
  },
  {
   "cell_type": "code",
   "execution_count": 4,
   "metadata": {},
   "outputs": [],
   "source": [
    "'''\n",
    "Constructs time series vector of binned counts from depCol for the indepValue in the indepCol\n",
    "'''\n",
    "def binTimes(dframe,indepCol,indepValue,depCol,timeRange):    \n",
    "    minTime,maxTime = timeRange\n",
    "    ts = np.zeros(maxTime - minTime + 1)\n",
    "    \n",
    "    cnt = Counter(dframe[dframe[indepCol] == indepValue][depCol])\n",
    "    for key,value in cnt.items():\n",
    "        ts[key-minTime] = value\n",
    "    return ts"
   ]
  },
  {
   "cell_type": "code",
   "execution_count": 7,
   "metadata": {},
   "outputs": [],
   "source": [
    "def addCol(colName = 'week'):\n",
    "    def time2week(dtime, minYear=2015):\n",
    "        dt = datetime.strptime(dtime,\"%Y-%m-%d %H:%M:%S\")\n",
    "        return(dt.isocalendar()[1] + (dt.isocalendar()[0]-minYear)*52)\n",
    "    \n",
    "    if colName == 'week':\n",
    "        func = time2week\n",
    "    \n",
    "    dframe[colName] = dframe.apply(lambda x: func(x.callDateTime),axis=1);\n",
    "    timeRange = (min(dframe[colName]), max(dframe[colName]))\n",
    "    \n",
    "    return(dframe,timeRange)"
   ]
  },
  {
   "cell_type": "code",
   "execution_count": 14,
   "metadata": {},
   "outputs": [],
   "source": [
    "def showTimeSeries(tsDict):\n",
    "    plt.figure(figsize=(10,8))\n",
    "    plt.xlabel('x', fontsize=15)\n",
    "    plt.ylabel('y', fontsize=15)\n",
    "    for key,val in tsDict.items():\n",
    "        plt.plot(val,label=key)\n",
    "    plt.legend()"
   ]
  },
  {
   "cell_type": "code",
   "execution_count": 15,
   "metadata": {},
   "outputs": [],
   "source": [
    "colName = 'week'\n",
    "dframe,timeRange = addCol(colName)"
   ]
  },
  {
   "cell_type": "code",
   "execution_count": 18,
   "metadata": {},
   "outputs": [],
   "source": [
    "tsDict = {}\n",
    "regionCol = 'district'\n",
    "for region in set(dframe[regionCol]):\n",
    "    tsDict[region] = binTimes(dframe,regionCol,region,colName,timeRange)"
   ]
  },
  {
   "cell_type": "code",
   "execution_count": 19,
   "metadata": {},
   "outputs": [],
   "source": [
    "import itertools\n",
    "import warnings"
   ]
  },
  {
   "cell_type": "code",
   "execution_count": 22,
   "metadata": {},
   "outputs": [],
   "source": [
    "def correlateTS(tsDict):\n",
    "    n = len(tsDict.keys())\n",
    "    corrMat = np.zeros((n,n))\n",
    "    region2index = {i:j for i,j in zip(tsDict.keys(),range(n))}\n",
    "    \n",
    "    for a,b in itertools.combinations(tsDict.keys(), 2):\n",
    "        tsa,tsb = tsDict[a],tsDict[b]\n",
    "        \n",
    "        with warnings.catch_warnings():\n",
    "            warnings.filterwarnings('error')\n",
    "            try:\n",
    "                coeff = np.corrcoef(tsa,tsb)[0,1]\n",
    "            except:\n",
    "                coeff = 0\n",
    "        corrMat[region2index[a]][region2index[b]] = float(coeff)\n",
    "        if not a==b:\n",
    "            corrMat[region2index[b]][region2index[a]] = float(coeff)\n",
    "            \n",
    "    return(corrMat,region2index)"
   ]
  },
  {
   "cell_type": "code",
   "execution_count": 23,
   "metadata": {},
   "outputs": [],
   "source": [
    "corrMat,region2index = correlateTS(tsDict)"
   ]
  },
  {
   "cell_type": "code",
   "execution_count": 25,
   "metadata": {},
   "outputs": [
    {
     "data": {
      "text/plain": [
       "<matplotlib.image.AxesImage at 0x257168941d0>"
      ]
     },
     "execution_count": 25,
     "metadata": {},
     "output_type": "execute_result"
    },
    {
     "data": {
      "image/png": "[encoded data removed]",
      "text/plain": [
       "<matplotlib.figure.Figure at 0x25732afbbe0>"
      ]
     },
     "metadata": {},
     "output_type": "display_data"
    }
   ],
   "source": [
    "plt.imshow(corrMat)"
   ]
  },
  {
   "cell_type": "code",
   "execution_count": null,
   "metadata": {},
   "outputs": [],
   "source": []
  }
 ],
 "metadata": {
  "kernelspec": {
   "display_name": "Python 3",
   "language": "python",
   "name": "python3"
  },
  "language_info": {
   "codemirror_mode": {
    "name": "ipython",
    "version": 3
   },
   "file_extension": ".py",
   "mimetype": "text/x-python",
   "name": "python",
   "nbconvert_exporter": "python",
   "pygments_lexer": "ipython3",
   "version": "3.6.3"
  }
 },
 "nbformat": 4,
 "nbformat_minor": 2
}
