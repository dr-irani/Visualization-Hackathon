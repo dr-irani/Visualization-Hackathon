{
 "cells": [
  {
   "cell_type": "code",
   "execution_count": 7,
   "metadata": {},
   "outputs": [
    {
     "name": "stdout",
     "output_type": "stream",
     "text": [
      "Collecting pip\n",
      "  Downloading https://files.pythonhosted.org/packages/46/dc/7fd5df840efb3e56c8b4f768793a237ec4ee59891959d6a215d63f727023/pip-19.0.1-py2.py3-none-any.whl (1.4MB)\n",
      "Installing collected packages: pip\n",
      "  Found existing installation: pip 10.0.1\n",
      "    Uninstalling pip-10.0.1:\n",
      "      Successfully uninstalled pip-10.0.1\n",
      "Successfully installed pip-19.0.1\n",
      "Requirement already satisfied: dash==0.35.1 in c:\\users\\ronan perry\\anaconda3\\lib\\site-packages (0.35.1)\n",
      "Requirement already satisfied: plotly in c:\\users\\ronan perry\\anaconda3\\lib\\site-packages (from dash==0.35.1) (3.5.0)\n",
      "Requirement already satisfied: Flask>=0.12 in c:\\users\\ronan perry\\anaconda3\\lib\\site-packages (from dash==0.35.1) (0.12.2)\n",
      "Requirement already satisfied: dash-renderer in c:\\users\\ronan perry\\anaconda3\\lib\\site-packages (from dash==0.35.1) (0.17.0)\n",
      "Requirement already satisfied: flask-compress in c:\\users\\ronan perry\\anaconda3\\lib\\site-packages (from dash==0.35.1) (1.4.0)\n",
      "Requirement already satisfied: pytz in c:\\users\\ronan perry\\anaconda3\\lib\\site-packages (from plotly->dash==0.35.1) (2017.2)\n",
      "Requirement already satisfied: nbformat>=4.2 in c:\\users\\ronan perry\\anaconda3\\lib\\site-packages (from plotly->dash==0.35.1) (4.4.0)\n",
      "Requirement already satisfied: six in c:\\users\\ronan perry\\anaconda3\\lib\\site-packages (from plotly->dash==0.35.1) (1.11.0)\n",
      "Requirement already satisfied: decorator>=4.0.6 in c:\\users\\ronan perry\\anaconda3\\lib\\site-packages (from plotly->dash==0.35.1) (4.3.0)\n",
      "Requirement already satisfied: retrying>=1.3.3 in c:\\users\\ronan perry\\anaconda3\\lib\\site-packages (from plotly->dash==0.35.1) (1.3.3)\n",
      "Requirement already satisfied: requests in c:\\users\\ronan perry\\anaconda3\\lib\\site-packages (from plotly->dash==0.35.1) (2.18.4)\n",
      "Requirement already satisfied: Werkzeug>=0.7 in c:\\users\\ronan perry\\anaconda3\\lib\\site-packages (from Flask>=0.12->dash==0.35.1) (0.12.2)\n",
      "Requirement already satisfied: Jinja2>=2.4 in c:\\users\\ronan perry\\anaconda3\\lib\\site-packages (from Flask>=0.12->dash==0.35.1) (2.9.6)\n",
      "Requirement already satisfied: itsdangerous>=0.21 in c:\\users\\ronan perry\\anaconda3\\lib\\site-packages (from Flask>=0.12->dash==0.35.1) (0.24)\n",
      "Requirement already satisfied: click>=2.0 in c:\\users\\ronan perry\\anaconda3\\lib\\site-packages (from Flask>=0.12->dash==0.35.1) (6.7)\n",
      "Requirement already satisfied: ipython_genutils in c:\\users\\ronan perry\\anaconda3\\lib\\site-packages (from nbformat>=4.2->plotly->dash==0.35.1) (0.2.0)\n",
      "Requirement already satisfied: traitlets>=4.1 in c:\\users\\ronan perry\\anaconda3\\lib\\site-packages (from nbformat>=4.2->plotly->dash==0.35.1) (4.3.2)\n",
      "Requirement already satisfied: jsonschema!=2.5.0,>=2.4 in c:\\users\\ronan perry\\anaconda3\\lib\\site-packages (from nbformat>=4.2->plotly->dash==0.35.1) (2.6.0)\n",
      "Requirement already satisfied: jupyter_core in c:\\users\\ronan perry\\anaconda3\\lib\\site-packages (from nbformat>=4.2->plotly->dash==0.35.1) (4.4.0)\n",
      "Requirement already satisfied: chardet<3.1.0,>=3.0.2 in c:\\users\\ronan perry\\anaconda3\\lib\\site-packages (from requests->plotly->dash==0.35.1) (3.0.4)\n",
      "Requirement already satisfied: idna<2.7,>=2.5 in c:\\users\\ronan perry\\anaconda3\\lib\\site-packages (from requests->plotly->dash==0.35.1) (2.6)\n",
      "Requirement already satisfied: urllib3<1.23,>=1.21.1 in c:\\users\\ronan perry\\anaconda3\\lib\\site-packages (from requests->plotly->dash==0.35.1) (1.22)\n",
      "Requirement already satisfied: certifi>=2017.4.17 in c:\\users\\ronan perry\\anaconda3\\lib\\site-packages (from requests->plotly->dash==0.35.1) (2018.11.29)\n",
      "Requirement already satisfied: MarkupSafe>=0.23 in c:\\users\\ronan perry\\anaconda3\\lib\\site-packages (from Jinja2>=2.4->Flask>=0.12->dash==0.35.1) (1.0)\n"
     ]
    },
    {
     "name": "stderr",
     "output_type": "stream",
     "text": [
      "Invalid requirement: '#'\n",
      "\n",
      "Invalid requirement: '#'\n",
      "\n",
      "Invalid requirement: '#'\n",
      "\n"
     ]
    }
   ],
   "source": [
    "!python -m pip install --upgrade pip\n",
    "!pip install dash==0.35.1\n",
    "!pip install dash-html-components==0.13.4  # HTML components\n",
    "!pip install dash-core-components==0.42.1  # Supercharged components\n",
    "!pip install dash-table==3.1.11  # Interactive DataTable component (new!)"
   ]
  },
  {
   "cell_type": "code",
   "execution_count": null,
   "metadata": {},
   "outputs": [],
   "source": []
  }
 ],
 "metadata": {
  "kernelspec": {
   "display_name": "Python 3",
   "language": "python",
   "name": "python3"
  }
 },
 "nbformat": 4,
 "nbformat_minor": 2
}
