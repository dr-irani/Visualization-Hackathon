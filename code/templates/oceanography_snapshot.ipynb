{
 "cells": [
  {
   "cell_type": "markdown",
   "metadata": {},
   "source": [
    "# Installation\n",
    "I'm using ``mayavi``, but its ``pip install`` is currently broken.\n",
    "I don't want to use python 2.7, so here is the workaround through github.\n",
    "```console\n",
    "pip install vtk traits traitsui pyface envisage apptools pyqt5\n",
    "git clone https://github.com/enthought/mayavi.git\n",
    "cd mayavi\n",
    "python setup.py install\n",
    "```\n",
    "Now add ``jupyter-notebook`` support\n",
    "```console\n",
    "jupyter nbextension install --py mayavi --user\n",
    "jupyter nbextension enable --py mayavi --user\n",
    "\n",
    "```\n",
    "Finally install ``xarray``\n",
    "```console\n",
    "conda install xarray dask netCDF4 bottleneck\n",
    "```\n",
    "@Bonnie: I'm having trouble installing it on SciServer. [Here is the installation webpage.](https://docs.enthought.com/mayavi/mayavi/installation.html)"
   ]
  },
  {
   "cell_type": "markdown",
   "metadata": {},
   "source": [
    "# To do:\n",
    "* Select domain and think about adding eulerian fields (SSH, DSO interface, ...)\n",
    "* Create side-by-side figures\n",
    "* Implement movie generation (fly over)"
   ]
  },
  {
   "cell_type": "markdown",
   "metadata": {},
   "source": [
    "# Import useful modules"
   ]
  },
  {
   "cell_type": "code",
   "execution_count": 1,
   "metadata": {},
   "outputs": [],
   "source": [
    "import xarray as xr\n",
    "import numpy as np\n",
    "from mayavi import mlab\n",
    "from tvtk.pyface.light_manager import CameraLight\n",
    "import scipy.io as sio"
   ]
  },
  {
   "cell_type": "markdown",
   "metadata": {},
   "source": [
    "# Define domain"
   ]
  },
  {
   "cell_type": "code",
   "execution_count": 2,
   "metadata": {},
   "outputs": [],
   "source": [
    "lon0 = -35.2164\n",
    "lon1 = -22.0220\n",
    "lat0 =  64.4609\n",
    "lat1 =  66.8481"
   ]
  },
  {
   "cell_type": "markdown",
   "metadata": {},
   "source": [
    "# Bathymetry"
   ]
  },
  {
   "cell_type": "code",
   "execution_count": 3,
   "metadata": {},
   "outputs": [],
   "source": [
    "Depth = xr.open_dataset('../../data/oceanography/Depth.nc')\n",
    "Depth = Depth.sel(X = slice(lon0,lon1),\n",
    "                  Y = slice(lat0,lat1)).to_array()\n",
    "x_eul = Depth['X'].values\n",
    "y_eul = Depth['Y'].values\n",
    "bathy = np.transpose(-Depth.values.squeeze()/1.E3) # km"
   ]
  },
  {
   "cell_type": "markdown",
   "metadata": {},
   "source": [
    "# Particles"
   ]
  },
  {
   "cell_type": "code",
   "execution_count": 4,
   "metadata": {},
   "outputs": [],
   "source": [
    "locals().update(sio.loadmat('../../data/oceanography/particles.mat'))\n",
    "x_lag = f_lons_end\n",
    "y_lag = f_lats_end\n",
    "z_lag = f_deps_end/1.E3 # km\n",
    "T_lag = f_TT_end\n",
    "S_lag = f_SS_end\n",
    "# Mask domain\n",
    "mask_x = np.logical_and(x_lag>lon0,x_lag<lon1)\n",
    "mask_y = np.logical_and(y_lag>lat0,y_lag<lat1)\n",
    "mask   = np.logical_and(mask_x,mask_y)\n",
    "# Apply mask\n",
    "x_lag = x_lag[mask]\n",
    "y_lag = y_lag[mask]\n",
    "z_lag = z_lag[mask]\n",
    "T_lag = T_lag[mask]\n",
    "S_lag = S_lag[mask]"
   ]
  },
  {
   "cell_type": "markdown",
   "metadata": {},
   "source": [
    "# Plot: use the window that pops out to choose camera settings"
   ]
  },
  {
   "cell_type": "code",
   "execution_count": 5,
   "metadata": {},
   "outputs": [],
   "source": [
    "fig = mlab.figure(bgcolor=(0,0,0),size=(1920/2, 1080))\n",
    "mlab.clf()\n",
    "\n",
    "# ----------\n",
    "# Bathymetry\n",
    "# ----------\n",
    "surf = mlab.surf(x_eul, y_eul, bathy, colormap='copper',\n",
    "                                      vmax = np.floor(np.amax(bathy)),\n",
    "                                      vmin = np.ceil(np.amin(bathy)),\n",
    "                                      warp_scale=\"auto\")\n",
    "# warp_scale=\"auto\" automatically rescale and moves the camera. \n",
    "# There isn't the same option for points3d.\n",
    "# store camera poistion, then reposition\n",
    "scale    = surf.actor.actor.scale\n",
    "position = surf.actor.actor.position\n",
    "view     = mlab.view()\n",
    "roll     = mlab.roll()\n",
    "\n",
    "# ---------\n",
    "# Particles\n",
    "# ---------\n",
    "points3d = mlab.points3d(x_lag, y_lag, z_lag, T_lag, colormap=\"bwr\", scale_factor=0.08)\n",
    "points3d.glyph.scale_mode = 'scale_by_vector' # Only change color\n",
    "mlab.colorbar(object=points3d,title='Temperature °C',nb_labels=3)\n",
    "# Rescale and reposition\n",
    "points3d.actor.actor.scale = scale\n",
    "points3d.actor.actor.position = position\n",
    "mlab.view(*view)\n",
    "mlab.roll(roll)\n",
    "\n",
    "# Show image\n",
    "mlab.show()"
   ]
  }
 ],
 "metadata": {
  "kernelspec": {
   "display_name": "Python 3",
   "language": "python",
   "name": "python3"
  },
  "language_info": {
   "codemirror_mode": {
    "name": "ipython",
    "version": 3
   },
   "file_extension": ".py",
   "mimetype": "text/x-python",
   "name": "python",
   "nbconvert_exporter": "python",
   "pygments_lexer": "ipython3",
   "version": "3.6.4"
  }
 },
 "nbformat": 4,
 "nbformat_minor": 2
}
